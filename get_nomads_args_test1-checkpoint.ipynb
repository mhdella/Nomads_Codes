{
 "cells": [
  {
   "cell_type": "markdown",
   "metadata": {},
   "source": [
    "This script to test the arguments of get_nomads.py"
   ]
  },
  {
   "cell_type": "code",
   "execution_count": 1,
   "metadata": {},
   "outputs": [],
   "source": [
    "import argparse\n",
    "import os\n",
    "from collections import defaultdict\n",
    "import time\n",
    "import logging\n",
    "\n",
    "import pandas as pd\n",
    "import numpy as np\n",
    "from multiprocessing import Pool, TimeoutError\n",
    "\n",
    "from pydap.client import open_url\n",
    "from webob.exc import HTTPError"
   ]
  },
  {
   "cell_type": "markdown",
   "metadata": {},
   "source": [
    "https://stackoverflow.com/questions/14762518/python-datetime-strptime-and-strftime-how-to-preserve-the-timezone-informat"
   ]
  },
  {
   "cell_type": "code",
   "execution_count": 2,
   "metadata": {},
   "outputs": [
    {
     "ename": "SyntaxError",
     "evalue": "EOL while scanning string literal (<ipython-input-2-ed78594dae49>, line 3)",
     "output_type": "error",
     "traceback": [
      "\u001b[1;36m  File \u001b[1;32m\"<ipython-input-2-ed78594dae49>\"\u001b[1;36m, line \u001b[1;32m3\u001b[0m\n\u001b[1;33m    init_timestamp.strftime('%Y%m/%Y%m%d/)\u001b[0m\n\u001b[1;37m                                          ^\u001b[0m\n\u001b[1;31mSyntaxError\u001b[0m\u001b[1;31m:\u001b[0m EOL while scanning string literal\n"
     ]
    }
   ],
   "source": [
    "# init_timestr = init_timestamp.strftime(f'%Y%m/%Y%m%d/{file_prefix}_%Y%m%d_%H%M')\n",
    "init_timestamp=2019-2-20\n",
    "init_timestamp.strftime('%Y%m/%Y%m%d/)"
   ]
  },
  {
   "cell_type": "code",
   "execution_count": 3,
   "metadata": {},
   "outputs": [],
   "source": [
    "import datetime\n",
    "import pytz\n",
    "\n",
    "fmt = '%Y-%m-%d %H:%M:%S %Z'\n",
    "\n",
    "d = datetime.datetime.now(pytz.timezone(\"America/New_York\"))\n",
    "d_string = d.strftime(fmt)\n",
    "# d2 = datetime.datetime.strptime(d_string, fmt)"
   ]
  },
  {
   "cell_type": "code",
   "execution_count": 4,
   "metadata": {},
   "outputs": [
    {
     "name": "stdout",
     "output_type": "stream",
     "text": [
      "2019-02-28 19:42:18.977025-05:00\n",
      "2019-02-28 19:42:18 EST\n"
     ]
    }
   ],
   "source": [
    "print(d)\n",
    "print(d_string)\n",
    "# print(d2.strftime(fmt))"
   ]
  },
  {
   "cell_type": "markdown",
   "metadata": {},
   "source": [
    "https://www.pythonforbeginners.com/basics/python-datetime-time-examples"
   ]
  },
  {
   "cell_type": "code",
   "execution_count": 5,
   "metadata": {},
   "outputs": [
    {
     "name": "stdout",
     "output_type": "stream",
     "text": [
      "2019-03-13\n",
      "201903/20190313\n"
     ]
    }
   ],
   "source": [
    "tm1 = datetime.date(2019,3,13)  #year, month, day# \n",
    "\n",
    "# tm1= datetime.datetime.now()\n",
    "\n",
    "# d3 = tm1.strftime(f'%Y%m/%Y%m%d')\n",
    "d3 = tm1.strftime('%Y%m/%Y%m%d')\n",
    "print(tm1)\n",
    "print(d3)"
   ]
  },
  {
   "cell_type": "code",
   "execution_count": 6,
   "metadata": {},
   "outputs": [
    {
     "name": "stdout",
     "output_type": "stream",
     "text": [
      "2018-03-13 23:08:15\n",
      "201803/20180313/20180313_23:08\n"
     ]
    }
   ],
   "source": [
    "from datetime import datetime\n",
    "# tm2=datetime(2012, 3, 5)\n",
    "tm2=datetime(2018, 3, 13, 23, 8, 15)\n",
    "\n",
    "d4 = tm2.strftime('%Y%m/%Y%m%d/%Y%m%d_%H:%M')\n",
    "# d4 = tm2.strftime('%Y%m/%Y%m%d/%Y%m%d_%H%M')\n",
    "\n",
    "print(tm2)\n",
    "print(d4)"
   ]
  },
  {
   "cell_type": "code",
   "execution_count": 7,
   "metadata": {},
   "outputs": [
    {
     "ename": "SyntaxError",
     "evalue": "invalid token (<ipython-input-7-0270dc5c8e77>, line 8)",
     "output_type": "error",
     "traceback": [
      "\u001b[1;36m  File \u001b[1;32m\"<ipython-input-7-0270dc5c8e77>\"\u001b[1;36m, line \u001b[1;32m8\u001b[0m\n\u001b[1;33m    init_time=2019-02-16 12:00:00 2012-05-01 00:00:00\u001b[0m\n\u001b[1;37m                    ^\u001b[0m\n\u001b[1;31mSyntaxError\u001b[0m\u001b[1;31m:\u001b[0m invalid token\n"
     ]
    }
   ],
   "source": [
    "# def multiple_times(i, hours, lat_idx, lon_idx, variables,\n",
    "#                    model_route, file_prefix, time_resolution, grib_format):\n",
    "model_route='gfs-004'\n",
    "file_prefix='gfs_4'\n",
    "time_resolution=3,\n",
    "grib_format='grb2',\n",
    "hours=24\n",
    "init_time=2019-02-16 12:00:00 2012-05-01 00:00:00\n",
    "init_timestamp = pd.Timestamp(init_time)\n",
    "# init_timestamp=datetime(2019,2,16,12,0,0)\n",
    "# init_timestamp=201902161200\n",
    "\n",
    "\n",
    "route = f'https://nomads.ncdc.noaa.gov/thredds/dodsC/{model_route}/'\n",
    "init_timestr = init_timestamp.strftime(f'%Y%m/%Y%m%d/{file_prefix}_%Y%m%d_%H%M')\n",
    "print(route)\n",
    "print(init_timestr)"
   ]
  },
  {
   "cell_type": "code",
   "execution_count": 8,
   "metadata": {},
   "outputs": [
    {
     "ename": "NameError",
     "evalue": "name 'args' is not defined",
     "output_type": "error",
     "traceback": [
      "\u001b[1;31m---------------------------------------------------------------------------\u001b[0m",
      "\u001b[1;31mNameError\u001b[0m                                 Traceback (most recent call last)",
      "\u001b[1;32m<ipython-input-8-bb4f621493a4>\u001b[0m in \u001b[0;36m<module>\u001b[1;34m()\u001b[0m\n\u001b[1;32m----> 1\u001b[1;33m \u001b[1;32mif\u001b[0m \u001b[0margs\u001b[0m\u001b[1;33m.\u001b[0m\u001b[0minit_time_start\u001b[0m \u001b[1;32mis\u001b[0m \u001b[1;32mnot\u001b[0m \u001b[1;32mNone\u001b[0m\u001b[1;33m:\u001b[0m\u001b[1;33m\u001b[0m\u001b[0m\n\u001b[0m\u001b[0;32m      2\u001b[0m     args.init_time = pd.DatetimeIndex(start=args.init_time_start,\n\u001b[0;32m      3\u001b[0m                                       \u001b[0mfreq\u001b[0m\u001b[1;33m=\u001b[0m\u001b[0margs\u001b[0m\u001b[1;33m.\u001b[0m\u001b[0minit_time_freq\u001b[0m\u001b[1;33m,\u001b[0m\u001b[1;33m\u001b[0m\u001b[0m\n\u001b[0;32m      4\u001b[0m                                       periods=args.init_time_periods)\n",
      "\u001b[1;31mNameError\u001b[0m: name 'args' is not defined"
     ]
    }
   ],
   "source": [
    "    if args.init_time_start is not None:\n",
    "        args.init_time = pd.DatetimeIndex(start=args.init_time_start,\n",
    "                                          freq=args.init_time_freq,\n",
    "                                          periods=args.init_time_periods)"
   ]
  },
  {
   "cell_type": "code",
   "execution_count": 10,
   "metadata": {},
   "outputs": [],
   "source": [
    "def single_forecast(init_time, args):\n",
    "    init_timestamp = pd.Timestamp(init_time)"
   ]
  },
  {
   "cell_type": "markdown",
   "metadata": {},
   "source": [
    "https://stackoverflow.com/questions/13703720/converting-between-datetime-timestamp-and-datetime64\n",
    "\n",
    "https://pandas.pydata.org/pandas-docs/version/0.22/timeseries.html"
   ]
  },
  {
   "cell_type": "code",
   "execution_count": 9,
   "metadata": {},
   "outputs": [
    {
     "ename": "SyntaxError",
     "evalue": "invalid token (<ipython-input-9-2a80a77a73cd>, line 1)",
     "output_type": "error",
     "traceback": [
      "\u001b[1;36m  File \u001b[1;32m\"<ipython-input-9-2a80a77a73cd>\"\u001b[1;36m, line \u001b[1;32m1\u001b[0m\n\u001b[1;33m    init_time=2019-02-16-12:00:00\u001b[0m\n\u001b[1;37m                    ^\u001b[0m\n\u001b[1;31mSyntaxError\u001b[0m\u001b[1;31m:\u001b[0m invalid token\n"
     ]
    }
   ],
   "source": [
    "init_time=2019-02-16-12:00:00\n",
    "init_timestamp = pd.Timestamp(init_time)\n",
    "init_timestamp"
   ]
  },
  {
   "cell_type": "code",
   "execution_count": 45,
   "metadata": {},
   "outputs": [
    {
     "data": {
      "text/plain": [
       "Timestamp('2019-02-16 18:00:00')"
      ]
     },
     "execution_count": 45,
     "metadata": {},
     "output_type": "execute_result"
    }
   ],
   "source": [
    "# T1= pd.tslib.Timestamp('2019-02-16 18:00:00') \n",
    "# T1 = pd.tslib.Timestamp('2019-02-16')\n",
    "# T1 = pd.Timestamp('2019-02-16-18:00') \n",
    "# T1 = pd.Timestamp('2019-02-16-18:00', tz='Libya') \n",
    "# T1 = pd.Timestamp('2019-02-16-18:00', tz='Japan') \n",
    "# T1 = pd.Timestamp('2019-02-16-18:00').tz_localize('Japan')\n",
    "T1 = pd.Timestamp('2019-02-16-18:00')\n",
    "#  T1.tz_convert('Japan')\n",
    "\n",
    "# T1 = pd.Timestamp(2019,2,16, 18,0) \n",
    "T1\n"
   ]
  },
  {
   "cell_type": "code",
   "execution_count": 42,
   "metadata": {},
   "outputs": [
    {
     "data": {
      "text/plain": [
       "'201902/20190216/20190216_1800'"
      ]
     },
     "execution_count": 42,
     "metadata": {},
     "output_type": "execute_result"
    }
   ],
   "source": [
    "dd=T1.strftime(f'%Y%m/%Y%m%d/%Y%m%d_%H%M')\n",
    "dd"
   ]
  },
  {
   "cell_type": "code",
   "execution_count": null,
   "metadata": {},
   "outputs": [],
   "source": []
  },
  {
   "cell_type": "code",
   "execution_count": null,
   "metadata": {},
   "outputs": [],
   "source": []
  },
  {
   "cell_type": "code",
   "execution_count": null,
   "metadata": {},
   "outputs": [],
   "source": []
  },
  {
   "cell_type": "code",
   "execution_count": null,
   "metadata": {},
   "outputs": [],
   "source": []
  }
 ],
 "metadata": {
  "kernelspec": {
   "display_name": "Python 3",
   "language": "python",
   "name": "python3"
  },
  "language_info": {
   "codemirror_mode": {
    "name": "ipython",
    "version": 3
   },
   "file_extension": ".py",
   "mimetype": "text/x-python",
   "name": "python",
   "nbconvert_exporter": "python",
   "pygments_lexer": "ipython3",
   "version": "3.7.0"
  }
 },
 "nbformat": 4,
 "nbformat_minor": 2
}
