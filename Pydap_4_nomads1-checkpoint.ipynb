{
 "cells": [
  {
   "cell_type": "markdown",
   "metadata": {},
   "source": [
    "https://stackoverflow.com/questions/3200984/where-can-i-find-historical-raw-weather-data/3206307\n",
    "\n",
    "I'm a big python user, and either pydap or NetCDF seemed like good tools to use. For no particular reason, I started playing around with pydap.\n",
    "\n",
    "To give an example of how to get all of the temperature data for a particular location from the nomads website, try the following in python:"
   ]
  },
  {
   "cell_type": "code",
   "execution_count": 2,
   "metadata": {},
   "outputs": [
    {
     "ename": "ModuleNotFoundError",
     "evalue": "No module named 'pydap'",
     "output_type": "error",
     "traceback": [
      "\u001b[1;31m---------------------------------------------------------------------------\u001b[0m",
      "\u001b[1;31mModuleNotFoundError\u001b[0m                       Traceback (most recent call last)",
      "\u001b[1;32m<ipython-input-2-999a3faed178>\u001b[0m in \u001b[0;36m<module>\u001b[1;34m()\u001b[0m\n\u001b[1;32m----> 1\u001b[1;33m \u001b[1;32mfrom\u001b[0m \u001b[0mpydap\u001b[0m\u001b[1;33m.\u001b[0m\u001b[0mclient\u001b[0m \u001b[1;32mimport\u001b[0m \u001b[0mopen_url\u001b[0m\u001b[1;33m\u001b[0m\u001b[0m\n\u001b[0m\u001b[0;32m      2\u001b[0m \u001b[1;33m\u001b[0m\u001b[0m\n\u001b[0;32m      3\u001b[0m \u001b[1;31m# setup the connection\u001b[0m\u001b[1;33m\u001b[0m\u001b[1;33m\u001b[0m\u001b[0m\n\u001b[0;32m      4\u001b[0m \u001b[0murl\u001b[0m \u001b[1;33m=\u001b[0m \u001b[1;34m'https://nomads.ncdc.noaa.gov/dods/NCEP_NARR_DAILY/197901/197901/narr-a_221_197901dd_hh00_000'\u001b[0m\u001b[1;33m\u001b[0m\u001b[0m\n\u001b[0;32m      5\u001b[0m \u001b[0mmodelconn\u001b[0m \u001b[1;33m=\u001b[0m \u001b[0mopen_url\u001b[0m\u001b[1;33m(\u001b[0m\u001b[0murl\u001b[0m\u001b[1;33m)\u001b[0m\u001b[1;33m\u001b[0m\u001b[0m\n",
      "\u001b[1;31mModuleNotFoundError\u001b[0m: No module named 'pydap'"
     ]
    }
   ],
   "source": [
    "from pydap.client import open_url\n",
    "\n",
    "# setup the connection\n",
    "url = 'https://nomads.ncdc.noaa.gov/dods/NCEP_NARR_DAILY/197901/197901/narr-a_221_197901dd_hh00_000'\n",
    "modelconn = open_url(url)\n",
    "tmp2m = modelconn['tmp2m']\n",
    "\n",
    "# grab the data\n",
    "lat_index = 200    # you could tie this to tmp2m.lat[:]\n",
    "lon_index = 200    # you could tie this to tmp2m.lon[:]\n",
    "print(tmp2m.array[:,lat_index,lon_index])"
   ]
  },
  {
   "cell_type": "markdown",
   "metadata": {},
   "source": [
    "https://github.com/pydap/pydap/issues/121"
   ]
  },
  {
   "cell_type": "code",
   "execution_count": null,
   "metadata": {},
   "outputs": [],
   "source": [
    "from pydap.client import open_url\n",
    "# dataset = open_url('https://nomads.ncdc.noaa.gov/thredds/dodsC/gfs-004/201612/20161201/gfs_4_20161201_0000_003.grb2')\n",
    "dataset = open_url('https://nomads.ncdc.noaa.gov/thredds/dodsC/gfs-004/201812/20181201/gfs_4_20181201_1800_384.grb2')\n",
    "tsurf = dataset['Temperature_surface']\n",
    "tsurf[0, 0, 0]\n",
    "# <GridType with array 'Temperature_surface' and maps 'time', 'lat', 'lon'>"
   ]
  },
  {
   "cell_type": "markdown",
   "metadata": {},
   "source": [
    "https://github.com/rjw57/cusf-landing-prediction/blob/master/pydap/get_wind_data.py (This very old 7-9 years ago!)\n",
    "\n",
    "https://github.com/pydap/pydap/\n",
    "\n",
    "pydap is an implementation of the Opendap/DODS protocol, written from scratch in pure python. You can use pydap to access scientific data on the internet without having to download it; instead, you work with special array and iterable objects that download data on-the-fly as necessary, saving bandwidth and time. The module also comes with a robust-but-lightweight Opendap server, implemented as a WSGI application."
   ]
  },
  {
   "cell_type": "code",
   "execution_count": null,
   "metadata": {},
   "outputs": [],
   "source": [
    "from pydap.client import open_url\n",
    "dataset = open_url('http://test.opendap.org/dap/data/nc/coads_climatology.nc')\n",
    "var = dataset['SST']\n",
    "var.shape\n",
    "var.dtype\n",
    "data = var[0,10:14,10:14]  # this will download data from the server\n",
    "data\n",
    "print(data.data)"
   ]
  },
  {
   "cell_type": "markdown",
   "metadata": {},
   "source": [
    "https://github.com/pydap/pydap/issues/121"
   ]
  },
  {
   "cell_type": "code",
   "execution_count": 4,
   "metadata": {},
   "outputs": [
    {
     "data": {
      "text/plain": [
       "<GridType with array 'Temperature_surface' and maps 'time', 'lat', 'lon'>"
      ]
     },
     "execution_count": 4,
     "metadata": {},
     "output_type": "execute_result"
    }
   ],
   "source": [
    "from pydap.client import open_url \n",
    "dataset = open_url('https://nomads.ncdc.noaa.gov/thredds/dodsC/gfs-004/201902/20190216/gfs_4_20190216_0000_003.grb2') \n",
    "tsurf = dataset['Temperature_surface'] \n",
    "tsurf[0, 0, 0]\n",
    "# <GridType with array 'Temperature_surface' and maps 'time', 'lat', 'lon'>"
   ]
  },
  {
   "cell_type": "code",
   "execution_count": 3,
   "metadata": {},
   "outputs": [
    {
     "ename": "AttributeError",
     "evalue": "module 'pydap' has no attribute '__version__'",
     "output_type": "error",
     "traceback": [
      "\u001b[1;31m---------------------------------------------------------------------------\u001b[0m",
      "\u001b[1;31mAttributeError\u001b[0m                            Traceback (most recent call last)",
      "\u001b[1;32m<ipython-input-3-8245d74be337>\u001b[0m in \u001b[0;36m<module>\u001b[1;34m()\u001b[0m\n\u001b[0;32m      1\u001b[0m \u001b[1;32mimport\u001b[0m \u001b[0mpydap\u001b[0m\u001b[1;33m\u001b[0m\u001b[0m\n\u001b[1;32m----> 2\u001b[1;33m \u001b[0mprint\u001b[0m\u001b[1;33m(\u001b[0m\u001b[0mpydap\u001b[0m\u001b[1;33m.\u001b[0m\u001b[0m__version__\u001b[0m\u001b[1;33m)\u001b[0m\u001b[1;33m\u001b[0m\u001b[0m\n\u001b[0m",
      "\u001b[1;31mAttributeError\u001b[0m: module 'pydap' has no attribute '__version__'"
     ]
    }
   ],
   "source": [
    "import pydap\n",
    "print(pydap.__version__)"
   ]
  },
  {
   "cell_type": "code",
   "execution_count": 2,
   "metadata": {},
   "outputs": [
    {
     "name": "stdout",
     "output_type": "stream",
     "text": [
      "1.15.1\n"
     ]
    }
   ],
   "source": [
    "import numpy\n",
    "print(numpy.__version__)"
   ]
  },
  {
   "cell_type": "markdown",
   "metadata": {},
   "source": [
    "# Uninstall pydap 3.2.2 and install pydap 3.2.1\n",
    "\n",
    "https://stackoverflow.com/questions/5226311/installing-specific-package-versions-with-pip\n",
    "\n",
    "(base) C:\\Users\\Mhdella>pip uninstall pydap\n",
    "\n",
    "pip install \"pydap>=3.2.1,<3.2.2\"\n",
    "\n",
    "(base) C:\\Users\\Mhdella>pip install -Iv pydap==3.2.1"
   ]
  },
  {
   "cell_type": "markdown",
   "metadata": {},
   "source": [
    "https://github.com/jupyter/notebook/issues/1524"
   ]
  },
  {
   "cell_type": "markdown",
   "metadata": {},
   "source": [
    "Check sys.executable and sys.path inside the notebook - I bet your kernel is not running in the environment you intended it to. Run jupyter kernelspec list to see where it finds the python3 kernel#\n",
    "\n",
    "(base) C:\\Users\\Mhdella>jupyter kernelspec list\n",
    "\n",
    "Available kernels:\n",
    "\n",
    "  ir         C:\\Users\\Mhdella\\AppData\\Roaming\\jupyter\\kernels\\ir\n",
    "  \n",
    "  python3    C:\\Users\\Mhdella\\Anaconda3\\share\\jupyter\\kernels\\python3\n",
    "\n"
   ]
  },
  {
   "cell_type": "markdown",
   "metadata": {},
   "source": [
    "Usually that indicates that the notebook is running with a different Python or in a different environment from Python in the command prompt. Check sys.executable to see which Python it's running in, and sys.path to see where it's looking for imports."
   ]
  },
  {
   "cell_type": "code",
   "execution_count": 1,
   "metadata": {},
   "outputs": [
    {
     "data": {
      "text/plain": [
       "'C:\\\\Users\\\\Mhdella\\\\Anaconda3\\\\python.exe'"
      ]
     },
     "execution_count": 1,
     "metadata": {},
     "output_type": "execute_result"
    }
   ],
   "source": [
    "import sys\n",
    "sys.executable\n",
    "'C:\\\\Users\\\\Mhdella\\\\Anaconda3\\\\python.exe'\n",
    "# sys.path"
   ]
  },
  {
   "cell_type": "code",
   "execution_count": null,
   "metadata": {},
   "outputs": [],
   "source": []
  },
  {
   "cell_type": "code",
   "execution_count": null,
   "metadata": {},
   "outputs": [],
   "source": []
  },
  {
   "cell_type": "code",
   "execution_count": null,
   "metadata": {},
   "outputs": [],
   "source": []
  },
  {
   "cell_type": "code",
   "execution_count": null,
   "metadata": {},
   "outputs": [],
   "source": []
  },
  {
   "cell_type": "code",
   "execution_count": null,
   "metadata": {},
   "outputs": [],
   "source": []
  },
  {
   "cell_type": "code",
   "execution_count": null,
   "metadata": {},
   "outputs": [],
   "source": []
  }
 ],
 "metadata": {
  "kernelspec": {
   "display_name": "Python 3",
   "language": "python",
   "name": "python3"
  },
  "language_info": {
   "codemirror_mode": {
    "name": "ipython",
    "version": 3
   },
   "file_extension": ".py",
   "mimetype": "text/x-python",
   "name": "python",
   "nbconvert_exporter": "python",
   "pygments_lexer": "ipython3",
   "version": "3.7.0"
  }
 },
 "nbformat": 4,
 "nbformat_minor": 2
}
